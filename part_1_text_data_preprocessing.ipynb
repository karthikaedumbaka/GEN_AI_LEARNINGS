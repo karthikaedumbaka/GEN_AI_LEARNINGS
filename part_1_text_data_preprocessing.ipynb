{
 "cells": [
  {
   "cell_type": "code",
   "execution_count": 1,
   "id": "5d7df9a1-bcfa-4515-87b2-29840d426b6d",
   "metadata": {},
   "outputs": [],
   "source": [
    "import numpy as np\n",
    "import pandas as pd"
   ]
  },
  {
   "cell_type": "code",
   "execution_count": 6,
   "id": "0619a9cd-bdc6-4f42-a78a-2e85ec6a280a",
   "metadata": {},
   "outputs": [
    {
     "data": {
      "text/html": [
       "<div>\n",
       "<style scoped>\n",
       "    .dataframe tbody tr th:only-of-type {\n",
       "        vertical-align: middle;\n",
       "    }\n",
       "\n",
       "    .dataframe tbody tr th {\n",
       "        vertical-align: top;\n",
       "    }\n",
       "\n",
       "    .dataframe thead th {\n",
       "        text-align: right;\n",
       "    }\n",
       "</style>\n",
       "<table border=\"1\" class=\"dataframe\">\n",
       "  <thead>\n",
       "    <tr style=\"text-align: right;\">\n",
       "      <th></th>\n",
       "      <th>review</th>\n",
       "      <th>sentiment</th>\n",
       "    </tr>\n",
       "  </thead>\n",
       "  <tbody>\n",
       "    <tr>\n",
       "      <th>0</th>\n",
       "      <td>One of the other reviewers has mentioned that ...</td>\n",
       "      <td>positive</td>\n",
       "    </tr>\n",
       "    <tr>\n",
       "      <th>1</th>\n",
       "      <td>A wonderful little production. &lt;br /&gt;&lt;br /&gt;The...</td>\n",
       "      <td>positive</td>\n",
       "    </tr>\n",
       "    <tr>\n",
       "      <th>2</th>\n",
       "      <td>I thought this was a wonderful way to spend ti...</td>\n",
       "      <td>positive</td>\n",
       "    </tr>\n",
       "    <tr>\n",
       "      <th>3</th>\n",
       "      <td>Basically there's a family where a little boy ...</td>\n",
       "      <td>negative</td>\n",
       "    </tr>\n",
       "    <tr>\n",
       "      <th>4</th>\n",
       "      <td>Petter Mattei's \"Love in the Time of Money\" is...</td>\n",
       "      <td>positive</td>\n",
       "    </tr>\n",
       "  </tbody>\n",
       "</table>\n",
       "</div>"
      ],
      "text/plain": [
       "                                              review sentiment\n",
       "0  One of the other reviewers has mentioned that ...  positive\n",
       "1  A wonderful little production. <br /><br />The...  positive\n",
       "2  I thought this was a wonderful way to spend ti...  positive\n",
       "3  Basically there's a family where a little boy ...  negative\n",
       "4  Petter Mattei's \"Love in the Time of Money\" is...  positive"
      ]
     },
     "execution_count": 6,
     "metadata": {},
     "output_type": "execute_result"
    }
   ],
   "source": [
    "df=pd.read_csv(\"IMDB Dataset.csv\")\n",
    "df.head()"
   ]
  },
  {
   "cell_type": "code",
   "execution_count": 8,
   "id": "962b751c-ea03-4cd5-aba4-b6196985311c",
   "metadata": {},
   "outputs": [],
   "source": [
    "df=df.head(100)"
   ]
  },
  {
   "cell_type": "code",
   "execution_count": 10,
   "id": "95429448-56f0-4aae-9c79-3db48d588272",
   "metadata": {},
   "outputs": [
    {
     "data": {
      "text/plain": [
       "(100, 2)"
      ]
     },
     "execution_count": 10,
     "metadata": {},
     "output_type": "execute_result"
    }
   ],
   "source": [
    "df.shape"
   ]
  },
  {
   "cell_type": "code",
   "execution_count": 11,
   "id": "a3cfdbd4-f617-44ca-9add-9a27564a9f92",
   "metadata": {},
   "outputs": [
    {
     "data": {
      "text/plain": [
       "\"Basically there's a family where a little boy (Jake) thinks there's a zombie in his closet & his parents are fighting all the time.<br /><br />This movie is slower than a soap opera... and suddenly, Jake decides to become Rambo and kill the zombie.<br /><br />OK, first of all when you're going to make a film you must Decide if its a thriller or a drama! As a drama the movie is watchable. Parents are divorcing & arguing like in real life. And then we have Jake with his closet which totally ruins all the film! I expected to see a BOOGEYMAN similar movie, and instead i watched a drama with some meaningless thriller spots.<br /><br />3 out of 10 just for the well playing parents & descent dialogs. As for the shots with Jake: just ignore them.\""
      ]
     },
     "execution_count": 11,
     "metadata": {},
     "output_type": "execute_result"
    }
   ],
   "source": [
    " df[\"review\"][3]"
   ]
  },
  {
   "cell_type": "code",
   "execution_count": 13,
   "id": "b11d09a1-ae05-4c5d-a2f4-78797c710e88",
   "metadata": {},
   "outputs": [
    {
     "name": "stderr",
     "output_type": "stream",
     "text": [
      "C:\\Users\\karth\\AppData\\Local\\Temp\\ipykernel_19052\\4202753376.py:1: SettingWithCopyWarning: \n",
      "A value is trying to be set on a copy of a slice from a DataFrame.\n",
      "Try using .loc[row_indexer,col_indexer] = value instead\n",
      "\n",
      "See the caveats in the documentation: https://pandas.pydata.org/pandas-docs/stable/user_guide/indexing.html#returning-a-view-versus-a-copy\n",
      "  df[\"review\"]=df[\"review\"].str.lower()\n"
     ]
    }
   ],
   "source": [
    "df[\"review\"]=df[\"review\"].str.lower()"
   ]
  },
  {
   "cell_type": "code",
   "execution_count": 14,
   "id": "c21062a1-d15e-42fa-abb4-d2f7116b7a06",
   "metadata": {},
   "outputs": [
    {
     "data": {
      "text/plain": [
       "\"basically there's a family where a little boy (jake) thinks there's a zombie in his closet & his parents are fighting all the time.<br /><br />this movie is slower than a soap opera... and suddenly, jake decides to become rambo and kill the zombie.<br /><br />ok, first of all when you're going to make a film you must decide if its a thriller or a drama! as a drama the movie is watchable. parents are divorcing & arguing like in real life. and then we have jake with his closet which totally ruins all the film! i expected to see a boogeyman similar movie, and instead i watched a drama with some meaningless thriller spots.<br /><br />3 out of 10 just for the well playing parents & descent dialogs. as for the shots with jake: just ignore them.\""
      ]
     },
     "execution_count": 14,
     "metadata": {},
     "output_type": "execute_result"
    }
   ],
   "source": [
    "df[\"review\"][3]"
   ]
  },
  {
   "cell_type": "code",
   "execution_count": 15,
   "id": "dc21683c-291e-42a7-9b77-47b52164ce7a",
   "metadata": {},
   "outputs": [],
   "source": [
    "import re\n",
    "def remove_html_tages(text):\n",
    "    patten=re.compile(\"<.*?>\")\n",
    "    return patten.sub(r\"\",text)\n"
   ]
  },
  {
   "cell_type": "code",
   "execution_count": 16,
   "id": "3b4433e5-1ef0-4531-9878-0c4533a9a53f",
   "metadata": {},
   "outputs": [],
   "source": [
    "text=\"basically there's a family where a little boy (jake) thinks there's a zombie in his closet & his parents are fighting all the time.<br /><br />this movie is slower than a soap opera... and suddenly, jake decides to become rambo and kill the zombie.<br /><br />ok, first of all when you're going to make a film you must decide if its a thriller or a drama! as a drama the movie is watchable. parents are divorcing & arguing like in real life. and then we have jake with his closet which totally ruins all the film! i expected to see a boogeyman similar movie, and instead i watched a drama with some meaningless thriller spots.<br /><br />3 out of 10 just for the well playing parents & descent dialogs. as for the shots with jake: just ignore them.\"\n"
   ]
  },
  {
   "cell_type": "code",
   "execution_count": 17,
   "id": "808232de-6d11-4c6a-88e0-99065e70e199",
   "metadata": {},
   "outputs": [
    {
     "data": {
      "text/plain": [
       "\"basically there's a family where a little boy (jake) thinks there's a zombie in his closet & his parents are fighting all the time.this movie is slower than a soap opera... and suddenly, jake decides to become rambo and kill the zombie.ok, first of all when you're going to make a film you must decide if its a thriller or a drama! as a drama the movie is watchable. parents are divorcing & arguing like in real life. and then we have jake with his closet which totally ruins all the film! i expected to see a boogeyman similar movie, and instead i watched a drama with some meaningless thriller spots.3 out of 10 just for the well playing parents & descent dialogs. as for the shots with jake: just ignore them.\""
      ]
     },
     "execution_count": 17,
     "metadata": {},
     "output_type": "execute_result"
    }
   ],
   "source": [
    "remove_html_tages(text)"
   ]
  },
  {
   "cell_type": "code",
   "execution_count": 18,
   "id": "67964468-74ea-4070-8e1a-5b89a20fb678",
   "metadata": {},
   "outputs": [
    {
     "name": "stderr",
     "output_type": "stream",
     "text": [
      "C:\\Users\\karth\\AppData\\Local\\Temp\\ipykernel_19052\\2785221777.py:1: SettingWithCopyWarning: \n",
      "A value is trying to be set on a copy of a slice from a DataFrame.\n",
      "Try using .loc[row_indexer,col_indexer] = value instead\n",
      "\n",
      "See the caveats in the documentation: https://pandas.pydata.org/pandas-docs/stable/user_guide/indexing.html#returning-a-view-versus-a-copy\n",
      "  df[\"review\"]=df[\"review\"].apply(remove_html_tages)\n"
     ]
    }
   ],
   "source": [
    "df[\"review\"]=df[\"review\"].apply(remove_html_tages)"
   ]
  },
  {
   "cell_type": "code",
   "execution_count": 19,
   "id": "184f7f9c-3157-4174-b519-04758f02ed74",
   "metadata": {},
   "outputs": [
    {
     "data": {
      "text/plain": [
       "'petter mattei\\'s \"love in the time of money\" is a visually stunning film to watch. mr. mattei offers us a vivid portrait about human relations. this is a movie that seems to be telling us what money, power and success do to people in the different situations we encounter. this being a variation on the arthur schnitzler\\'s play about the same theme, the director transfers the action to the present time new york where all these different characters meet and connect. each one is connected in one way, or another to the next person, but no one seems to know the previous point of contact. stylishly, the film has a sophisticated luxurious look. we are taken to see how these people live and the world they live in their own habitat.the only thing one gets out of all these souls in the picture is the different stages of loneliness each one inhabits. a big city is not exactly the best place in which human relations find sincere fulfillment, as one discerns is the case with most of the people we encounter.the acting is good under mr. mattei\\'s direction. steve buscemi, rosario dawson, carol kane, michael imperioli, adrian grenier, and the rest of the talented cast, make these characters come alive.we wish mr. mattei good luck and await anxiously for his next work.'"
      ]
     },
     "execution_count": 19,
     "metadata": {},
     "output_type": "execute_result"
    }
   ],
   "source": [
    "df[\"review\"][4]"
   ]
  },
  {
   "cell_type": "code",
   "execution_count": 20,
   "id": "4a3ba9c9-14d2-4b50-bba3-b16641587422",
   "metadata": {},
   "outputs": [],
   "source": [
    "def remove_url(text):\n",
    "    patten=re.compile(r'https?://\\S+|www.\\.\\S+')\n",
    "    return patten.sub(r'',text)\n",
    "    "
   ]
  },
  {
   "cell_type": "code",
   "execution_count": 27,
   "id": "008592ef-c019-467f-99b3-66db789615d2",
   "metadata": {},
   "outputs": [],
   "source": [
    "text1=\"youtube:linkhttps://www.youtube.com/\"\n",
    "text2=\"https://www.linkedin.com/feed/\""
   ]
  },
  {
   "cell_type": "code",
   "execution_count": 28,
   "id": "aafa980e-02f9-4823-98cc-677a285c67e5",
   "metadata": {},
   "outputs": [
    {
     "data": {
      "text/plain": [
       "'youtube:link'"
      ]
     },
     "execution_count": 28,
     "metadata": {},
     "output_type": "execute_result"
    }
   ],
   "source": [
    "remove_url(text1)"
   ]
  },
  {
   "cell_type": "code",
   "execution_count": 24,
   "id": "aa9326a8-e4ca-49f9-89d7-78cb8cdf9a54",
   "metadata": {},
   "outputs": [
    {
     "name": "stderr",
     "output_type": "stream",
     "text": [
      "C:\\Users\\karth\\AppData\\Local\\Temp\\ipykernel_19052\\1671234233.py:1: SettingWithCopyWarning: \n",
      "A value is trying to be set on a copy of a slice from a DataFrame.\n",
      "Try using .loc[row_indexer,col_indexer] = value instead\n",
      "\n",
      "See the caveats in the documentation: https://pandas.pydata.org/pandas-docs/stable/user_guide/indexing.html#returning-a-view-versus-a-copy\n",
      "  df[\"review\"]=df[\"review\"].apply(remove_url)\n"
     ]
    }
   ],
   "source": [
    "df[\"review\"]=df[\"review\"].apply(remove_url)"
   ]
  },
  {
   "cell_type": "markdown",
   "id": "00df9107-4489-4335-9121-4034fa5d8065",
   "metadata": {},
   "source": [
    "# punctuation Handing"
   ]
  },
  {
   "cell_type": "code",
   "execution_count": 29,
   "id": "554b15f5-c742-4c54-af43-32d9a91ef3bd",
   "metadata": {},
   "outputs": [
    {
     "data": {
      "text/plain": [
       "'!\"#$%&\\'()*+,-./:;<=>?@[\\\\]^_`{|}~'"
      ]
     },
     "execution_count": 29,
     "metadata": {},
     "output_type": "execute_result"
    }
   ],
   "source": [
    "import string,time\n",
    "string.punctuation"
   ]
  },
  {
   "cell_type": "code",
   "execution_count": 30,
   "id": "c9e3807d-2574-4036-bd0c-95ebe1a98c1f",
   "metadata": {},
   "outputs": [],
   "source": [
    "exlude=string.punctuation"
   ]
  },
  {
   "cell_type": "code",
   "execution_count": 31,
   "id": "82df6c26-1712-4eaf-86f3-5c161acc0b39",
   "metadata": {},
   "outputs": [],
   "source": [
    "def remove_punctuation(text):\n",
    "    for char in exlude:\n",
    "        text = text.replace(char,\"\")\n",
    "    return text\n",
    "    "
   ]
  },
  {
   "cell_type": "code",
   "execution_count": 32,
   "id": "6f6f6371-a8cd-4648-92fe-6ec679f0d9bc",
   "metadata": {},
   "outputs": [],
   "source": [
    "text='petter mattei\\'s \"love in the time of money\" is a visually stunning film to watch. mr. mattei offers us a vivid portrait about human relations. this is a movie that seems to be telling us what money, power and success do to people in the different situations we encounter. this being a variation on the arthur schnitzler\\'s play about the same theme, the director transfers the action to the present time new york where all these different characters meet and connect. each one is connected in one way, or another to the next person, but no one seems to know the previous point of contact. stylishly, the film has a sophisticated luxurious look. we are taken to see how these people live and the world they live in their own habitat.the only thing one gets out of all these souls in the picture is the different stages of loneliness each one inhabits. a big city is not exactly the best place in which human relations find sincere fulfillment, as one discerns is the case with most of the people we encounter.the acting is good under mr. mattei\\'s direction. steve buscemi, rosario dawson, carol kane, michael imperioli, adrian grenier, and the rest of the talented cast, make these characters come alive.we wish mr. mattei good luck and await anxiously for his next work.'"
   ]
  },
  {
   "cell_type": "code",
   "execution_count": 33,
   "id": "2dfd8787-88cd-4b64-b539-181f28dac4c9",
   "metadata": {},
   "outputs": [
    {
     "data": {
      "text/plain": [
       "'petter matteis love in the time of money is a visually stunning film to watch mr mattei offers us a vivid portrait about human relations this is a movie that seems to be telling us what money power and success do to people in the different situations we encounter this being a variation on the arthur schnitzlers play about the same theme the director transfers the action to the present time new york where all these different characters meet and connect each one is connected in one way or another to the next person but no one seems to know the previous point of contact stylishly the film has a sophisticated luxurious look we are taken to see how these people live and the world they live in their own habitatthe only thing one gets out of all these souls in the picture is the different stages of loneliness each one inhabits a big city is not exactly the best place in which human relations find sincere fulfillment as one discerns is the case with most of the people we encounterthe acting is good under mr matteis direction steve buscemi rosario dawson carol kane michael imperioli adrian grenier and the rest of the talented cast make these characters come alivewe wish mr mattei good luck and await anxiously for his next work'"
      ]
     },
     "execution_count": 33,
     "metadata": {},
     "output_type": "execute_result"
    }
   ],
   "source": [
    "remove_punctuation(text)"
   ]
  },
  {
   "cell_type": "code",
   "execution_count": 35,
   "id": "4db576bc-fce5-432e-8894-555a2b45c18a",
   "metadata": {},
   "outputs": [],
   "source": [
    "def remove_punction_best(text):\n",
    "    return text.translate(str.maketrans(\"\",\"\",exlude))"
   ]
  },
  {
   "cell_type": "code",
   "execution_count": 36,
   "id": "ba09ea35-3ef7-47e3-a73f-29a41e289320",
   "metadata": {},
   "outputs": [
    {
     "data": {
      "text/plain": [
       "'petter matteis love in the time of money is a visually stunning film to watch mr mattei offers us a vivid portrait about human relations this is a movie that seems to be telling us what money power and success do to people in the different situations we encounter this being a variation on the arthur schnitzlers play about the same theme the director transfers the action to the present time new york where all these different characters meet and connect each one is connected in one way or another to the next person but no one seems to know the previous point of contact stylishly the film has a sophisticated luxurious look we are taken to see how these people live and the world they live in their own habitatthe only thing one gets out of all these souls in the picture is the different stages of loneliness each one inhabits a big city is not exactly the best place in which human relations find sincere fulfillment as one discerns is the case with most of the people we encounterthe acting is good under mr matteis direction steve buscemi rosario dawson carol kane michael imperioli adrian grenier and the rest of the talented cast make these characters come alivewe wish mr mattei good luck and await anxiously for his next work'"
      ]
     },
     "execution_count": 36,
     "metadata": {},
     "output_type": "execute_result"
    }
   ],
   "source": [
    "remove_punction_best(text)"
   ]
  },
  {
   "cell_type": "code",
   "execution_count": 37,
   "id": "3d68bf11-d202-401e-8fe0-0e409a4cc159",
   "metadata": {},
   "outputs": [
    {
     "name": "stderr",
     "output_type": "stream",
     "text": [
      "C:\\Users\\karth\\AppData\\Local\\Temp\\ipykernel_19052\\1437269810.py:1: SettingWithCopyWarning: \n",
      "A value is trying to be set on a copy of a slice from a DataFrame.\n",
      "Try using .loc[row_indexer,col_indexer] = value instead\n",
      "\n",
      "See the caveats in the documentation: https://pandas.pydata.org/pandas-docs/stable/user_guide/indexing.html#returning-a-view-versus-a-copy\n",
      "  df[\"review\"]=df[\"review\"].apply(remove_punction_best)\n"
     ]
    }
   ],
   "source": [
    "df[\"review\"]=df[\"review\"].apply(remove_punction_best)"
   ]
  },
  {
   "cell_type": "markdown",
   "id": "3c5a3a85-63c7-40fa-83e1-654bd0f37b72",
   "metadata": {},
   "source": [
    "# chat_conversion handle"
   ]
  },
  {
   "cell_type": "code",
   "execution_count": 39,
   "id": "623f3571-2a66-4278-94aa-7866ab3b6468",
   "metadata": {},
   "outputs": [],
   "source": [
    "chat_words = {\n",
    "    'AFAIK':'As Far As I Know',\n",
    "    'AFK':'Away From Keyboard',\n",
    "    'ASAP':'As Soon As Possible',\n",
    "    \"FYI\": \"For Your Information\",\n",
    "    \"ASAP\": \"As Soon As Possible\",\n",
    "    \"BRB\": \"Be Right Back\",\n",
    "    \"BTW\": \"By The Way\",\n",
    "    \"OMG\": \"Oh My God\",\n",
    "    \"IMO\": \"In My Opinion\",\n",
    "    \"LOL\": \"Laugh Out Loud\",\n",
    "    \"TTYL\": \"Talk To You Later\",\n",
    "    \"GTG\": \"Got To Go\",\n",
    "    \"TTYT\": \"Talk To You Tomorrow\",\n",
    "    \"IDK\": \"I Don't Know\",\n",
    "    \"TMI\": \"Too Much Information\",\n",
    "    \"IMHO\": \"In My Humble Opinion\",\n",
    "    \"ICYMI\": \"In Case You Missed It\",\n",
    "    \"AFAIK\": \"As Far As I Know\",\n",
    "    \"BTW\": \"By The Way\",\n",
    "    \"FAQ\": \"Frequently Asked Questions\",\n",
    "    \"TGIF\": \"Thank God It's Friday\",\n",
    "    \"FYA\": \"For Your Action\",\n",
    "    \"ICYMI\": \"In Case You Missed It\",\n",
    "}"
   ]
  },
  {
   "cell_type": "code",
   "execution_count": 40,
   "id": "21b7e55f-e0a0-49c6-99b8-2a826394fcc7",
   "metadata": {},
   "outputs": [],
   "source": [
    "def chat_conversion(text):\n",
    "    new_text = []\n",
    "    for w in text.split():\n",
    "        if w.upper() in chat_words:\n",
    "            new_text.append(chat_words[w.upper()])\n",
    "        else:\n",
    "            new_text.append(w)\n",
    "    return \" \".join(new_text)"
   ]
  },
  {
   "cell_type": "code",
   "execution_count": 41,
   "id": "fcf09430-b9a0-4668-a760-590a34faa9db",
   "metadata": {},
   "outputs": [
    {
     "data": {
      "text/plain": [
       "'Do this work As Soon As Possible'"
      ]
     },
     "execution_count": 41,
     "metadata": {},
     "output_type": "execute_result"
    }
   ],
   "source": [
    "\n",
    "chat_conversion('Do this work ASAP')"
   ]
  },
  {
   "cell_type": "markdown",
   "id": "53bfd7b6-6dda-4bdb-9266-2bb83e932c12",
   "metadata": {},
   "source": [
    "# Incorrect_text handling"
   ]
  },
  {
   "cell_type": "code",
   "execution_count": 43,
   "id": "3167ec9d-9464-4391-b895-2bb18ce468c7",
   "metadata": {},
   "outputs": [
    {
     "name": "stdout",
     "output_type": "stream",
     "text": [
      "Collecting textblob\n",
      "  Downloading textblob-0.18.0.post0-py3-none-any.whl.metadata (4.5 kB)\n",
      "Requirement already satisfied: nltk>=3.8 in c:\\users\\karth\\anaconda3\\lib\\site-packages (from textblob) (3.9.1)\n",
      "Requirement already satisfied: click in c:\\users\\karth\\anaconda3\\lib\\site-packages (from nltk>=3.8->textblob) (8.1.7)\n",
      "Requirement already satisfied: joblib in c:\\users\\karth\\anaconda3\\lib\\site-packages (from nltk>=3.8->textblob) (1.4.2)\n",
      "Requirement already satisfied: regex>=2021.8.3 in c:\\users\\karth\\anaconda3\\lib\\site-packages (from nltk>=3.8->textblob) (2024.9.11)\n",
      "Requirement already satisfied: tqdm in c:\\users\\karth\\anaconda3\\lib\\site-packages (from nltk>=3.8->textblob) (4.66.5)\n",
      "Requirement already satisfied: colorama in c:\\users\\karth\\anaconda3\\lib\\site-packages (from click->nltk>=3.8->textblob) (0.4.6)\n",
      "Downloading textblob-0.18.0.post0-py3-none-any.whl (626 kB)\n",
      "   ---------------------------------------- 0.0/626.3 kB ? eta -:--:--\n",
      "   ---------------------------------------- 0.0/626.3 kB ? eta -:--:--\n",
      "   ---------------------------------------- 0.0/626.3 kB ? eta -:--:--\n",
      "   ---------------------------------------- 0.0/626.3 kB ? eta -:--:--\n",
      "   ---------------- ----------------------- 262.1/626.3 kB ? eta -:--:--\n",
      "   ---------------- ----------------------- 262.1/626.3 kB ? eta -:--:--\n",
      "   ---------------- ----------------------- 262.1/626.3 kB ? eta -:--:--\n",
      "   -------------------------------------- 626.3/626.3 kB 630.1 kB/s eta 0:00:00\n",
      "Installing collected packages: textblob\n",
      "Successfully installed textblob-0.18.0.post0\n"
     ]
    }
   ],
   "source": [
    "!pip install textblob\n",
    "from textblob import TextBlob"
   ]
  },
  {
   "cell_type": "code",
   "execution_count": 44,
   "id": "64d027bc-2b8a-467e-9133-f0dec7566826",
   "metadata": {},
   "outputs": [
    {
     "data": {
      "text/plain": [
       "'certain conditions during several generations are modified in the same manner.'"
      ]
     },
     "execution_count": 44,
     "metadata": {},
     "output_type": "execute_result"
    }
   ],
   "source": [
    "incorrect_text = 'ceertain conditionas duriing seveal ggenerations aree moodified in the saame maner.'\n",
    "\n",
    "textBlb = TextBlob(incorrect_text)\n",
    "\n",
    "textBlb.correct().string"
   ]
  },
  {
   "cell_type": "code",
   "execution_count": 45,
   "id": "c103828f-fa42-46e5-8132-a41f5d4d223a",
   "metadata": {},
   "outputs": [
    {
     "name": "stderr",
     "output_type": "stream",
     "text": [
      "[nltk_data] Downloading package stopwords to\n",
      "[nltk_data]     C:\\Users\\karth\\AppData\\Roaming\\nltk_data...\n",
      "[nltk_data]   Unzipping corpora\\stopwords.zip.\n"
     ]
    },
    {
     "data": {
      "text/plain": [
       "True"
      ]
     },
     "execution_count": 45,
     "metadata": {},
     "output_type": "execute_result"
    }
   ],
   "source": [
    "from nltk.corpus import stopwords\n",
    "import nltk\n",
    "nltk.download('stopwords')"
   ]
  },
  {
   "cell_type": "code",
   "execution_count": 46,
   "id": "231e5e41-b444-43d8-8ec9-0de1f41063e4",
   "metadata": {},
   "outputs": [
    {
     "data": {
      "text/plain": [
       "['i',\n",
       " 'me',\n",
       " 'my',\n",
       " 'myself',\n",
       " 'we',\n",
       " 'our',\n",
       " 'ours',\n",
       " 'ourselves',\n",
       " 'you',\n",
       " \"you're\",\n",
       " \"you've\",\n",
       " \"you'll\",\n",
       " \"you'd\",\n",
       " 'your',\n",
       " 'yours',\n",
       " 'yourself',\n",
       " 'yourselves',\n",
       " 'he',\n",
       " 'him',\n",
       " 'his',\n",
       " 'himself',\n",
       " 'she',\n",
       " \"she's\",\n",
       " 'her',\n",
       " 'hers',\n",
       " 'herself',\n",
       " 'it',\n",
       " \"it's\",\n",
       " 'its',\n",
       " 'itself',\n",
       " 'they',\n",
       " 'them',\n",
       " 'their',\n",
       " 'theirs',\n",
       " 'themselves',\n",
       " 'what',\n",
       " 'which',\n",
       " 'who',\n",
       " 'whom',\n",
       " 'this',\n",
       " 'that',\n",
       " \"that'll\",\n",
       " 'these',\n",
       " 'those',\n",
       " 'am',\n",
       " 'is',\n",
       " 'are',\n",
       " 'was',\n",
       " 'were',\n",
       " 'be',\n",
       " 'been',\n",
       " 'being',\n",
       " 'have',\n",
       " 'has',\n",
       " 'had',\n",
       " 'having',\n",
       " 'do',\n",
       " 'does',\n",
       " 'did',\n",
       " 'doing',\n",
       " 'a',\n",
       " 'an',\n",
       " 'the',\n",
       " 'and',\n",
       " 'but',\n",
       " 'if',\n",
       " 'or',\n",
       " 'because',\n",
       " 'as',\n",
       " 'until',\n",
       " 'while',\n",
       " 'of',\n",
       " 'at',\n",
       " 'by',\n",
       " 'for',\n",
       " 'with',\n",
       " 'about',\n",
       " 'against',\n",
       " 'between',\n",
       " 'into',\n",
       " 'through',\n",
       " 'during',\n",
       " 'before',\n",
       " 'after',\n",
       " 'above',\n",
       " 'below',\n",
       " 'to',\n",
       " 'from',\n",
       " 'up',\n",
       " 'down',\n",
       " 'in',\n",
       " 'out',\n",
       " 'on',\n",
       " 'off',\n",
       " 'over',\n",
       " 'under',\n",
       " 'again',\n",
       " 'further',\n",
       " 'then',\n",
       " 'once',\n",
       " 'here',\n",
       " 'there',\n",
       " 'when',\n",
       " 'where',\n",
       " 'why',\n",
       " 'how',\n",
       " 'all',\n",
       " 'any',\n",
       " 'both',\n",
       " 'each',\n",
       " 'few',\n",
       " 'more',\n",
       " 'most',\n",
       " 'other',\n",
       " 'some',\n",
       " 'such',\n",
       " 'no',\n",
       " 'nor',\n",
       " 'not',\n",
       " 'only',\n",
       " 'own',\n",
       " 'same',\n",
       " 'so',\n",
       " 'than',\n",
       " 'too',\n",
       " 'very',\n",
       " 's',\n",
       " 't',\n",
       " 'can',\n",
       " 'will',\n",
       " 'just',\n",
       " 'don',\n",
       " \"don't\",\n",
       " 'should',\n",
       " \"should've\",\n",
       " 'now',\n",
       " 'd',\n",
       " 'll',\n",
       " 'm',\n",
       " 'o',\n",
       " 're',\n",
       " 've',\n",
       " 'y',\n",
       " 'ain',\n",
       " 'aren',\n",
       " \"aren't\",\n",
       " 'couldn',\n",
       " \"couldn't\",\n",
       " 'didn',\n",
       " \"didn't\",\n",
       " 'doesn',\n",
       " \"doesn't\",\n",
       " 'hadn',\n",
       " \"hadn't\",\n",
       " 'hasn',\n",
       " \"hasn't\",\n",
       " 'haven',\n",
       " \"haven't\",\n",
       " 'isn',\n",
       " \"isn't\",\n",
       " 'ma',\n",
       " 'mightn',\n",
       " \"mightn't\",\n",
       " 'mustn',\n",
       " \"mustn't\",\n",
       " 'needn',\n",
       " \"needn't\",\n",
       " 'shan',\n",
       " \"shan't\",\n",
       " 'shouldn',\n",
       " \"shouldn't\",\n",
       " 'wasn',\n",
       " \"wasn't\",\n",
       " 'weren',\n",
       " \"weren't\",\n",
       " 'won',\n",
       " \"won't\",\n",
       " 'wouldn',\n",
       " \"wouldn't\"]"
      ]
     },
     "execution_count": 46,
     "metadata": {},
     "output_type": "execute_result"
    }
   ],
   "source": [
    "stopwords.words('english')"
   ]
  },
  {
   "cell_type": "code",
   "execution_count": 49,
   "id": "a89bd9b1-16fd-4841-9932-24eebccfe3c9",
   "metadata": {},
   "outputs": [
    {
     "data": {
      "text/plain": [
       "179"
      ]
     },
     "execution_count": 49,
     "metadata": {},
     "output_type": "execute_result"
    }
   ],
   "source": [
    "len(stopwords.words('english'))"
   ]
  },
  {
   "cell_type": "code",
   "execution_count": 50,
   "id": "ae12bbbc-feba-4a94-b40b-9df603b0752f",
   "metadata": {},
   "outputs": [],
   "source": [
    "def remove_stopwords(text):\n",
    "    new_text = []\n",
    "\n",
    "    for word in text.split():\n",
    "        if word in stopwords.words('english'):\n",
    "            new_text.append('')\n",
    "        else:\n",
    "            new_text.append(word)\n",
    "    x = new_text[:]\n",
    "    new_text.clear()\n",
    "    return \" \".join(x)"
   ]
  },
  {
   "cell_type": "code",
   "execution_count": 51,
   "id": "94e11b9a-e4ba-49af-99f4-e4aad990f895",
   "metadata": {},
   "outputs": [
    {
     "data": {
      "text/plain": [
       "'probably  all-time favorite movie,  story  selflessness, sacrifice  dedication   noble cause,    preachy  boring.   never gets old, despite   seen   15   times'"
      ]
     },
     "execution_count": 51,
     "metadata": {},
     "output_type": "execute_result"
    }
   ],
   "source": [
    "remove_stopwords('probably my all-time favorite movie, a story of selflessness, sacrifice and dedication to a noble cause, but it\\'s not preachy or boring. it just never gets old, despite my having seen it some 15 or more times')\n"
   ]
  },
  {
   "cell_type": "code",
   "execution_count": 52,
   "id": "772c0212-8e34-4702-aa80-3e798267899a",
   "metadata": {},
   "outputs": [
    {
     "data": {
      "text/plain": [
       "0     one    reviewers  mentioned   watching  1 oz e...\n",
       "1      wonderful little production  filming techniqu...\n",
       "2      thought    wonderful way  spend time    hot s...\n",
       "3     basically theres  family   little boy jake thi...\n",
       "4     petter matteis love   time  money   visually s...\n",
       "                            ...                        \n",
       "95    daniel daylewis    versatile actor alive engli...\n",
       "96     guess would    originally going    least two ...\n",
       "97    well  like  watch bad horror bmovies cause  th...\n",
       "98       worst movie   ever seen  well   worst    pr...\n",
       "99        mario fan   long    remember    fond memor...\n",
       "Name: review, Length: 100, dtype: object"
      ]
     },
     "execution_count": 52,
     "metadata": {},
     "output_type": "execute_result"
    }
   ],
   "source": [
    "\n",
    "df['review'].apply(remove_stopwords)"
   ]
  },
  {
   "cell_type": "markdown",
   "id": "2c52f80a-6207-4cf9-b980-5c213bfa6c89",
   "metadata": {},
   "source": [
    "# remove_emoji handle"
   ]
  },
  {
   "cell_type": "code",
   "execution_count": 53,
   "id": "980e8b66-b47e-460a-81e2-d6a25f5405b1",
   "metadata": {},
   "outputs": [],
   "source": [
    "import re\n",
    "def remove_emoji(text):\n",
    "    emoji_pattern = re.compile(\"[\"\n",
    "                           u\"\\U0001F600-\\U0001F64F\"  # emoticons\n",
    "                           u\"\\U0001F300-\\U0001F5FF\"  # symbols & pictographs\n",
    "                           u\"\\U0001F680-\\U0001F6FF\"  # transport & map symbols\n",
    "                           u\"\\U0001F1E0-\\U0001F1FF\"  # flags (iOS)\n",
    "                           u\"\\U00002702-\\U000027B0\"\n",
    "                           u\"\\U000024C2-\\U0001F251\"\n",
    "                           \"]+\", flags=re.UNICODE)\n",
    "    return emoji_pattern.sub(r'', text)"
   ]
  },
  {
   "cell_type": "code",
   "execution_count": 54,
   "id": "36eb6016-b3aa-49e2-aba4-4c7b307fc97d",
   "metadata": {},
   "outputs": [
    {
     "data": {
      "text/plain": [
       "'Loved the movie. It was '"
      ]
     },
     "execution_count": 54,
     "metadata": {},
     "output_type": "execute_result"
    }
   ],
   "source": [
    "remove_emoji(\"Loved the movie. It was 😘😘\")"
   ]
  },
  {
   "cell_type": "code",
   "execution_count": 55,
   "id": "3514334d-8938-4b7c-9dc1-4258d638f949",
   "metadata": {},
   "outputs": [
    {
     "data": {
      "text/plain": [
       "'super '"
      ]
     },
     "execution_count": 55,
     "metadata": {},
     "output_type": "execute_result"
    }
   ],
   "source": [
    "remove_emoji(\"super 😂😂\")"
   ]
  },
  {
   "cell_type": "code",
   "execution_count": 56,
   "id": "1c5f2654-0cbd-4aa1-bfa4-748361fc0f0f",
   "metadata": {},
   "outputs": [
    {
     "name": "stdout",
     "output_type": "stream",
     "text": [
      "Collecting emoji\n",
      "  Downloading emoji-2.14.0-py3-none-any.whl.metadata (5.7 kB)\n",
      "Downloading emoji-2.14.0-py3-none-any.whl (586 kB)\n",
      "   ---------------------------------------- 0.0/586.9 kB ? eta -:--:--\n",
      "   ---------------------------------------- 0.0/586.9 kB ? eta -:--:--\n",
      "   ---------------------------------------- 0.0/586.9 kB ? eta -:--:--\n",
      "   ---------------------------------------- 0.0/586.9 kB ? eta -:--:--\n",
      "   ---------------------------------------- 0.0/586.9 kB ? eta -:--:--\n",
      "   ---------------------------------------- 0.0/586.9 kB ? eta -:--:--\n",
      "   ---------------------------------------- 0.0/586.9 kB ? eta -:--:--\n",
      "   ----------------- ---------------------- 262.1/586.9 kB ? eta -:--:--\n",
      "   ----------------- ---------------------- 262.1/586.9 kB ? eta -:--:--\n",
      "   ----------------- ---------------------- 262.1/586.9 kB ? eta -:--:--\n",
      "   ----------------- ---------------------- 262.1/586.9 kB ? eta -:--:--\n",
      "   --------------------------------- ---- 524.3/586.9 kB 294.2 kB/s eta 0:00:01\n",
      "   -------------------------------------- 586.9/586.9 kB 296.8 kB/s eta 0:00:00\n",
      "Installing collected packages: emoji\n",
      "Successfully installed emoji-2.14.0\n"
     ]
    }
   ],
   "source": [
    "!pip install emoji"
   ]
  },
  {
   "cell_type": "code",
   "execution_count": 57,
   "id": "dc221f80-78ad-4d7a-b7a9-840d1a3ed820",
   "metadata": {},
   "outputs": [
    {
     "name": "stdout",
     "output_type": "stream",
     "text": [
      "Python is :fire:\n"
     ]
    }
   ],
   "source": [
    "import emoji\n",
    "print(emoji.demojize('Python is 🔥'))"
   ]
  },
  {
   "cell_type": "code",
   "execution_count": 58,
   "id": "baf8ab94-2a6c-4490-bb31-300b0aea2a09",
   "metadata": {},
   "outputs": [
    {
     "name": "stdout",
     "output_type": "stream",
     "text": [
      "Loved the movie. It was :face_blowing_a_kiss:\n"
     ]
    }
   ],
   "source": [
    "print(emoji.demojize('Loved the movie. It was 😘'))"
   ]
  },
  {
   "cell_type": "markdown",
   "id": "8f203695-d4d2-40d4-a3ed-055d04d76db9",
   "metadata": {},
   "source": [
    "<h1>Tokenization</h1>"
   ]
  },
  {
   "cell_type": "markdown",
   "id": "7098029a-b54e-4cc2-8699-d603da06d7ce",
   "metadata": {},
   "source": [
    "<h2>Using the split Fuction</h2>"
   ]
  },
  {
   "cell_type": "code",
   "execution_count": 60,
   "id": "41785603-8372-4e2b-9ac6-43feae93f5ff",
   "metadata": {},
   "outputs": [
    {
     "data": {
      "text/plain": [
       "['I', 'am', 'going', 'to', 'Chennai']"
      ]
     },
     "execution_count": 60,
     "metadata": {},
     "output_type": "execute_result"
    }
   ],
   "source": [
    "# work takenization\n",
    "sen1=\"I am going to Chennai\"\n",
    "sen1.split()"
   ]
  },
  {
   "cell_type": "code",
   "execution_count": 61,
   "id": "bd16fba2-5411-4edb-b462-d79b755723ae",
   "metadata": {},
   "outputs": [
    {
     "data": {
      "text/plain": [
       "['I am going to Chennai', ' and stay in PG', ' for work']"
      ]
     },
     "execution_count": 61,
     "metadata": {},
     "output_type": "execute_result"
    }
   ],
   "source": [
    "# sentence Tokenization\n",
    "sen2=\"I am going to Chennai. and stay in PG. for work\"\n",
    "sen2.split(\".\")"
   ]
  },
  {
   "cell_type": "markdown",
   "id": "a8365ce1-8bd0-4937-b654-73fca9ddf200",
   "metadata": {},
   "source": [
    "# Regul\\Expression"
   ]
  },
  {
   "cell_type": "code",
   "execution_count": 64,
   "id": "189467aa-4401-4cea-918b-3e74e6a24ebe",
   "metadata": {},
   "outputs": [
    {
     "name": "stderr",
     "output_type": "stream",
     "text": [
      "<>:3: SyntaxWarning: invalid escape sequence '\\w'\n",
      "<>:3: SyntaxWarning: invalid escape sequence '\\w'\n",
      "C:\\Users\\karth\\AppData\\Local\\Temp\\ipykernel_19052\\1020426824.py:3: SyntaxWarning: invalid escape sequence '\\w'\n",
      "  tokens=re.findall(\"[\\w']+\",sen1)\n"
     ]
    },
    {
     "data": {
      "text/plain": [
       "['I', 'am', 'going', 'to', 'Chennai']"
      ]
     },
     "execution_count": 64,
     "metadata": {},
     "output_type": "execute_result"
    }
   ],
   "source": [
    "import re\n",
    "sen1=\"I am going to Chennai\"\n",
    "tokens=re.findall(\"[\\w']+\",sen1)\n",
    "tokens"
   ]
  },
  {
   "cell_type": "code",
   "execution_count": 65,
   "id": "dcdeb3ea-8b4b-4461-84e8-2db202e1a0f5",
   "metadata": {},
   "outputs": [],
   "source": [
    "text='petter mattei\\'s \"love in the time of money\" is a visually stunning film to watch. mr. mattei offers us a vivid portrait about human relations. this is a movie that seems to be telling us what money, power and success do to people in the different situations we encounter. this being a variation on the arthur schnitzler\\'s play about the same theme, the director transfers the action to the present time new york where all these different characters meet and connect. each one is connected in one way, or another to the next person, but no one seems to know the previous point of contact. stylishly, the film has a sophisticated luxurious look. we are taken to see how these people live and the world they live in their own habitat.the only thing one gets out of all these souls in the picture is the different stages of loneliness each one inhabits. a big city is not exactly the best place in which human relations find sincere fulfillment, as one discerns is the case with most of the people we encounter.the acting is good under mr. mattei\\'s direction. steve buscemi, rosario dawson, carol kane, michael imperioli, adrian grenier, and the rest of the talented cast, make these characters come alive.we wish mr. mattei good luck and await anxiously for his next work.'\n"
   ]
  },
  {
   "cell_type": "code",
   "execution_count": 67,
   "id": "14e354f9-20fe-41d7-bfe0-dc63b207f1be",
   "metadata": {},
   "outputs": [
    {
     "data": {
      "text/plain": [
       "['petter mattei\\'s \"love in the time of money\" is a visually stunning film to watch',\n",
       " 'mr',\n",
       " 'mattei offers us a vivid portrait about human relations',\n",
       " 'this is a movie that seems to be telling us what money, power and success do to people in the different situations we encounter',\n",
       " \"this being a variation on the arthur schnitzler's play about the same theme, the director transfers the action to the present time new york where all these different characters meet and connect\",\n",
       " 'each one is connected in one way, or another to the next person, but no one seems to know the previous point of contact',\n",
       " 'stylishly, the film has a sophisticated luxurious look',\n",
       " 'we are taken to see how these people live and the world they live in their own habitat.the only thing one gets out of all these souls in the picture is the different stages of loneliness each one inhabits',\n",
       " 'a big city is not exactly the best place in which human relations find sincere fulfillment, as one discerns is the case with most of the people we encounter.the acting is good under mr',\n",
       " \"mattei's direction\",\n",
       " 'steve buscemi, rosario dawson, carol kane, michael imperioli, adrian grenier, and the rest of the talented cast, make these characters come alive.we wish mr',\n",
       " 'mattei good luck and await anxiously for his next work.']"
      ]
     },
     "execution_count": 67,
     "metadata": {},
     "output_type": "execute_result"
    }
   ],
   "source": [
    "sentence =re.compile('[.!] ').split(text)\n",
    "sentence"
   ]
  },
  {
   "cell_type": "code",
   "execution_count": 73,
   "id": "afe9f035-54a6-4dc0-9991-e8bd0e624d05",
   "metadata": {},
   "outputs": [
    {
     "name": "stderr",
     "output_type": "stream",
     "text": [
      "[nltk_data] Downloading package punkt to\n",
      "[nltk_data]     C:\\Users\\karth\\AppData\\Roaming\\nltk_data...\n",
      "[nltk_data]   Package punkt is already up-to-date!\n",
      "[nltk_data] Downloading package punkt_tab to\n",
      "[nltk_data]     C:\\Users\\karth\\AppData\\Roaming\\nltk_data...\n",
      "[nltk_data]   Unzipping tokenizers\\punkt_tab.zip.\n"
     ]
    },
    {
     "data": {
      "text/plain": [
       "True"
      ]
     },
     "execution_count": 73,
     "metadata": {},
     "output_type": "execute_result"
    }
   ],
   "source": [
    "from nltk.tokenize import word_tokenize,sent_tokenize\n",
    "import nltk\n",
    "nltk.download(\"punkt\")\n",
    "import nltk\n",
    "nltk.download('punkt_tab')"
   ]
  },
  {
   "cell_type": "code",
   "execution_count": 74,
   "id": "6c018efd-f3d2-46f2-b6b6-490277b681cc",
   "metadata": {},
   "outputs": [
    {
     "data": {
      "text/plain": [
       "['I', 'am', 'going', 'to', 'Chennai']"
      ]
     },
     "execution_count": 74,
     "metadata": {},
     "output_type": "execute_result"
    }
   ],
   "source": [
    "sen1=\"I am going to Chennai\"\n",
    "word_tokenize(sen1)"
   ]
  },
  {
   "cell_type": "code",
   "execution_count": 75,
   "id": "71e8531d-bc6b-47fa-893c-75f8dff44a3a",
   "metadata": {},
   "outputs": [
    {
     "data": {
      "text/plain": [
       "['petter mattei\\'s \"love in the time of money\" is a visually stunning film to watch.',\n",
       " 'mr. mattei offers us a vivid portrait about human relations.',\n",
       " 'this is a movie that seems to be telling us what money, power and success do to people in the different situations we encounter.',\n",
       " \"this being a variation on the arthur schnitzler's play about the same theme, the director transfers the action to the present time new york where all these different characters meet and connect.\",\n",
       " 'each one is connected in one way, or another to the next person, but no one seems to know the previous point of contact.',\n",
       " 'stylishly, the film has a sophisticated luxurious look.',\n",
       " 'we are taken to see how these people live and the world they live in their own habitat.the only thing one gets out of all these souls in the picture is the different stages of loneliness each one inhabits.',\n",
       " \"a big city is not exactly the best place in which human relations find sincere fulfillment, as one discerns is the case with most of the people we encounter.the acting is good under mr. mattei's direction.\",\n",
       " 'steve buscemi, rosario dawson, carol kane, michael imperioli, adrian grenier, and the rest of the talented cast, make these characters come alive.we wish mr. mattei good luck and await anxiously for his next work.']"
      ]
     },
     "execution_count": 75,
     "metadata": {},
     "output_type": "execute_result"
    }
   ],
   "source": [
    "sent_tokenize(text)"
   ]
  },
  {
   "cell_type": "markdown",
   "id": "511bba43-fb1a-49f6-85f6-b96ed7c12e17",
   "metadata": {},
   "source": [
    "# Stemmer"
   ]
  },
  {
   "cell_type": "code",
   "execution_count": 76,
   "id": "15ef4fea-cb05-4c4c-8d38-642c6b15906d",
   "metadata": {},
   "outputs": [],
   "source": [
    "from nltk.stem.porter import PorterStemmer\n"
   ]
  },
  {
   "cell_type": "code",
   "execution_count": 77,
   "id": "3417c994-5934-490a-9a5c-0ccb0fa1fb7f",
   "metadata": {},
   "outputs": [],
   "source": [
    "ps=PorterStemmer()"
   ]
  },
  {
   "cell_type": "code",
   "execution_count": 78,
   "id": "56c1712e-f268-4122-9b55-611a2c73135a",
   "metadata": {},
   "outputs": [],
   "source": [
    "def stem_word(text):\n",
    "    return \" \".join([ps.stem(word) for word in text.split()])\n",
    "    "
   ]
  },
  {
   "cell_type": "code",
   "execution_count": 79,
   "id": "16fc720d-8ede-44aa-b9c8-eb9b511c87a4",
   "metadata": {},
   "outputs": [
    {
     "data": {
      "text/plain": [
       "'walk walk walk walk'"
      ]
     },
     "execution_count": 79,
     "metadata": {},
     "output_type": "execute_result"
    }
   ],
   "source": [
    "sample=\"walk walks walking walked\"\n",
    "stem_word(sample)"
   ]
  },
  {
   "cell_type": "code",
   "execution_count": 80,
   "id": "2e852d46-c5ed-482f-bbde-f75d785f9663",
   "metadata": {},
   "outputs": [
    {
     "data": {
      "text/plain": [
       "'petter mattei\\' \"love in the time of money\" is a visual stun film to watch. mr. mattei offer us a vivid portrait about human relations. thi is a movi that seem to be tell us what money, power and success do to peopl in the differ situat we encounter. thi be a variat on the arthur schnitzler\\' play about the same theme, the director transfer the action to the present time new york where all these differ charact meet and connect. each one is connect in one way, or anoth to the next person, but no one seem to know the previou point of contact. stylishly, the film ha a sophist luxuri look. we are taken to see how these peopl live and the world they live in their own habitat.th onli thing one get out of all these soul in the pictur is the differ stage of loneli each one inhabits. a big citi is not exactli the best place in which human relat find sincer fulfillment, as one discern is the case with most of the peopl we encounter.th act is good under mr. mattei\\' direction. steve buscemi, rosario dawson, carol kane, michael imperioli, adrian grenier, and the rest of the talent cast, make these charact come alive.w wish mr. mattei good luck and await anxious for hi next work.'"
      ]
     },
     "execution_count": 80,
     "metadata": {},
     "output_type": "execute_result"
    }
   ],
   "source": [
    "stem_word(text)"
   ]
  },
  {
   "cell_type": "markdown",
   "id": "bab50dcb-c82d-4728-b30b-39d4926daab8",
   "metadata": {},
   "source": [
    "# Lemmatization"
   ]
  },
  {
   "cell_type": "code",
   "execution_count": 81,
   "id": "1dd34043-c478-412d-b243-7f698c48ee01",
   "metadata": {},
   "outputs": [
    {
     "name": "stderr",
     "output_type": "stream",
     "text": [
      "[nltk_data] Downloading package wordnet to\n",
      "[nltk_data]     C:\\Users\\karth\\AppData\\Roaming\\nltk_data...\n",
      "[nltk_data] Downloading package omw-1.4 to\n",
      "[nltk_data]     C:\\Users\\karth\\AppData\\Roaming\\nltk_data...\n"
     ]
    },
    {
     "name": "stdout",
     "output_type": "stream",
     "text": [
      "Word                Lemma               \n",
      "He                  He                  \n",
      "was                 be                  \n",
      "running             run                 \n",
      "and                 and                 \n",
      "eating              eat                 \n",
      "at                  at                  \n",
      "same                same                \n",
      "time                time                \n",
      "He                  He                  \n",
      "has                 have                \n",
      "bad                 bad                 \n",
      "habit               habit               \n",
      "of                  of                  \n",
      "swimming            swim                \n",
      "after               after               \n",
      "playing             play                \n",
      "long                long                \n",
      "hours               hours               \n",
      "in                  in                  \n",
      "the                 the                 \n",
      "Sun                 Sun                 \n"
     ]
    }
   ],
   "source": [
    "import nltk\n",
    "from nltk.stem import WordNetLemmatizer\n",
    "import nltk\n",
    "nltk.download('wordnet')\n",
    "nltk.download('omw-1.4')\n",
    "wordnet_lemmatizer = WordNetLemmatizer()\n",
    "\n",
    "sentence = \"He was running and eating at same time. He has bad habit of swimming after playing long hours in the Sun.\"\n",
    "punctuations=\"?:!.,;\"\n",
    "sentence_words = nltk.word_tokenize(sentence)\n",
    "for word in sentence_words:\n",
    "    if word in punctuations:\n",
    "        sentence_words.remove(word)\n",
    "\n",
    "sentence_words\n",
    "print(\"{0:20}{1:20}\".format(\"Word\",\"Lemma\"))\n",
    "for word in sentence_words:\n",
    "    print (\"{0:20}{1:20}\".format(word,wordnet_lemmatizer.lemmatize(word,pos='v')))"
   ]
  },
  {
   "cell_type": "markdown",
   "id": "853d1db8-c7ca-48bf-945b-d11458a076a0",
   "metadata": {},
   "source": [
    "# NOTE: Stemming & lamatization are same to retrieve root words but lamatization is worked good. Lamatization is slow & stemming is fast\n"
   ]
  },
  {
   "cell_type": "code",
   "execution_count": null,
   "id": "5356519c-9af3-4f1f-bf06-669fee2e8a72",
   "metadata": {},
   "outputs": [],
   "source": []
  }
 ],
 "metadata": {
  "kernelspec": {
   "display_name": "Python 3 (ipykernel)",
   "language": "python",
   "name": "python3"
  },
  "language_info": {
   "codemirror_mode": {
    "name": "ipython",
    "version": 3
   },
   "file_extension": ".py",
   "mimetype": "text/x-python",
   "name": "python",
   "nbconvert_exporter": "python",
   "pygments_lexer": "ipython3",
   "version": "3.12.7"
  }
 },
 "nbformat": 4,
 "nbformat_minor": 5
}
